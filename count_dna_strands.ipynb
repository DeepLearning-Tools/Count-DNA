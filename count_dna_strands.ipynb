{
 "cells": [
  {
   "cell_type": "markdown",
   "metadata": {},
   "source": [
    "# Count and Label DNA strands"
   ]
  },
  {
   "cell_type": "markdown",
   "metadata": {},
   "source": [
    "This is a proof of concept (POC) developed using **Python3**, **NumPy** and **OpenCV**, to count and label the number of _DNA strands_ from an image of _combed DNA molecules_.\n",
    "\n",
    "The technique of **Adaptive Mean Thresholding** is used here."
   ]
  },
  {
   "cell_type": "code",
   "execution_count": null,
   "metadata": {},
   "outputs": [],
   "source": [
    "import numpy as np\n",
    "import cv2"
   ]
  },
  {
   "cell_type": "code",
   "execution_count": null,
   "metadata": {},
   "outputs": [],
   "source": [
    "fileName = \"12da1dc4adab6e00952790c8e363a9a62e945fd3\"\n",
    "extn = \".jpg\"\n",
    "# Read and convert the image to Grayscale\n",
    "src = cv2.imread(fileName + extn, cv2.IMREAD_GRAYSCALE)"
   ]
  },
  {
   "cell_type": "markdown",
   "metadata": {},
   "source": [
    "Sample DNA Image\n",
    "![Sample DNA Image](12da1dc4adab6e00952790c8e363a9a62e945fd3.jpg)"
   ]
  },
  {
   "cell_type": "code",
   "execution_count": 4,
   "metadata": {},
   "outputs": [],
   "source": [
    "cv2.startWindowThread()\n",
    "# See what you have got\n",
    "cv2.imshow(\"Original Image\", src)"
   ]
  },
  {
   "cell_type": "code",
   "execution_count": 5,
   "metadata": {},
   "outputs": [],
   "source": [
    "# Initialize parameters\n",
    "height, width = src.shape\n",
    "blockSize = 5\n",
    "C = -7"
   ]
  },
  {
   "cell_type": "code",
   "execution_count": 6,
   "metadata": {},
   "outputs": [],
   "source": [
    "# Apply Adaptive Mean Thresholding\n",
    "amtImage = cv2.adaptiveThreshold(src, 255, cv2.ADAPTIVE_THRESH_MEAN_C, cv2.THRESH_BINARY, blockSize, C)\n",
    "cv2.imwrite(fileName + '-after-thresholding' + extn, amtImage)\n",
    "cv2.imshow(\"After Thresholding\", amtImage)\n",
    "\n",
    "# Find image contours\n",
    "_, contours, hierarchy = cv2.findContours(amtImage, cv2.RETR_LIST, cv2.CHAIN_APPROX_SIMPLE)\n",
    "\n",
    "# Initialize numpy array, will be used to export the image with labels\n",
    "labeledImage = np.zeros((height, width, 1), np.uint8)\n",
    "color = (255, 255, 255)\n",
    "scale = 1\n",
    "count = 0"
   ]
  },
  {
   "cell_type": "markdown",
   "metadata": {},
   "source": [
    "Image after thresholding\n",
    "![Image after thresholding](12da1dc4adab6e00952790c8e363a9a62e945fd3-after-thresholding.jpg)\n",
    "\n",
    "**Label** and **Length** values will be printed in _CSV_ format on the console window. Alternatively, these can be written to a file."
   ]
  },
  {
   "cell_type": "code",
   "execution_count": 7,
   "metadata": {},
   "outputs": [
    {
     "name": "stdout",
     "output_type": "stream",
     "text": [
      "number,length\n",
      "1,138.23758959770203\n",
      "2,61.25483310222626\n",
      "3,241.4335446357727\n",
      "4,68.35533821582794\n",
      "5,33.21320295333862\n",
      "6,73.98275470733643\n",
      "7,41.627416491508484\n",
      "8,22.14213538169861\n",
      "9,44.52691173553467\n",
      "10,25.727921843528748\n",
      "11,37.041630029678345\n",
      "12,24.242640614509583\n",
      "13,30.38477599620819\n",
      "14,25.899494767189026\n",
      "15,25.727921843528748\n",
      "16,75.91168713569641\n",
      "17,227.63455522060394\n",
      "18,33.45584309101105\n",
      "19,323.102591753006\n",
      "20,33.79898941516876\n",
      "21,331.119837641716\n",
      "22,162.2375875711441\n",
      "23,40.041630268096924\n",
      "24,386.52899849414825\n",
      "25,152.7228683233261\n",
      "26,54.84061932563782\n",
      "27,38.455843806266785\n",
      "28,102.91168713569641\n"
     ]
    }
   ],
   "source": [
    "# Header\n",
    "print('number,length')\n",
    "\n",
    "for contour in contours:\n",
    "    arcLen = cv2.arcLength(contour, False)\n",
    "    \n",
    "    # Ignore small contours; will help to reduce noise\n",
    "    if arcLen > 20:\n",
    "        cv2.drawContours(labeledImage, [contour * scale], -1, color, -2)\n",
    "        count += 1\n",
    "        countLabel = str(count)\n",
    "        x = contour[0][0][0]\n",
    "        y = contour[0][0][1]\n",
    "        \n",
    "        # Print label on image\n",
    "        cv2.putText(labeledImage, countLabel, (x, y), cv2.FONT_HERSHEY_SIMPLEX, 0.3, 180, 1, True)\n",
    "        print(countLabel + ',' + str(arcLen))"
   ]
  },
  {
   "cell_type": "code",
   "execution_count": null,
   "metadata": {},
   "outputs": [],
   "source": [
    "# Write to file and see the output\n",
    "cv2.imwrite(fileName + '-with-labels' + extn, labeledImage)\n",
    "cv2.imshow(\"Final Image\", labeledImage)\n",
    "\n",
    "# Cleanup\n",
    "cv2.waitKey(0)\n",
    "cv2.destroyAllWindows()"
   ]
  },
  {
   "cell_type": "markdown",
   "metadata": {},
   "source": [
    "Labeled DNA Image\n",
    "![Labeled DNA Image](12da1dc4adab6e00952790c8e363a9a62e945fd3-with-labels.jpg)"
   ]
  },
  {
   "cell_type": "markdown",
   "metadata": {},
   "source": [
    "### Next steps:  \n",
    "* Length values are in pixels. They need to be converted to the scientific length unit."
   ]
  }
 ],
 "metadata": {
  "kernelspec": {
   "display_name": "Python 3",
   "language": "python",
   "name": "python3"
  },
  "language_info": {
   "codemirror_mode": {
    "name": "ipython",
    "version": 3
   },
   "file_extension": ".py",
   "mimetype": "text/x-python",
   "name": "python",
   "nbconvert_exporter": "python",
   "pygments_lexer": "ipython3",
   "version": "3.6.3"
  }
 },
 "nbformat": 4,
 "nbformat_minor": 2
}
